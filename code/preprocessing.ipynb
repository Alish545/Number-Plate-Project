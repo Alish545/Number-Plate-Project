{
 "cells": [
  {
   "cell_type": "code",
   "execution_count": 1,
   "id": "5f7e606b-b11e-4164-a706-c230cd2d8451",
   "metadata": {},
   "outputs": [
    {
     "name": "stdout",
     "output_type": "stream",
     "text": [
      "Dataset split complete!\n"
     ]
    }
   ],
   "source": [
    "import os\n",
    "import random\n",
    "import shutil\n",
    "\n",
    "# Define paths\n",
    "dataset_path = r\"C:\\Users\\Acer nitro 5\\number\\datasets\"  # Replace with your dataset path\n",
    "image_dir = os.path.join(dataset_path, \"images\")\n",
    "label_dir = os.path.join(dataset_path, \"labels\")\n",
    "\n",
    "train_image_dir = os.path.join(dataset_path, \"train\", \"images\")\n",
    "train_label_dir = os.path.join(dataset_path, \"train\", \"labels\")\n",
    "val_image_dir = os.path.join(dataset_path, \"val\", \"images\")\n",
    "val_label_dir = os.path.join(dataset_path, \"val\", \"labels\")\n",
    "\n",
    "# Create directories if they don't exist\n",
    "os.makedirs(train_image_dir, exist_ok=True)\n",
    "os.makedirs(val_image_dir, exist_ok=True)\n",
    "os.makedirs(train_label_dir, exist_ok=True)\n",
    "os.makedirs(val_label_dir, exist_ok=True)\n",
    "\n",
    "# Get list of all image files\n",
    "image_files = [f for f in os.listdir(image_dir) if f.endswith('.jpg')]\n",
    "\n",
    "# Shuffle the images\n",
    "random.shuffle(image_files)\n",
    "\n",
    "# Split dataset (80% train, 20% val)\n",
    "split_index = int(0.8 * len(image_files))\n",
    "train_files = image_files[:split_index]\n",
    "val_files = image_files[split_index:]\n",
    "\n",
    "# Move training and validation images and labels to respective directories\n",
    "for file in train_files:\n",
    "    # Move images\n",
    "    src_image_path = os.path.join(image_dir, file)\n",
    "    dst_image_path = os.path.join(train_image_dir, file)\n",
    "    shutil.copy(src_image_path, dst_image_path)\n",
    "\n",
    "    # Move corresponding label if it exists\n",
    "    label_file = file.replace('.jpg', '.txt')\n",
    "    src_label_path = os.path.join(label_dir, label_file)\n",
    "    dst_label_path = os.path.join(train_label_dir, label_file)\n",
    "    \n",
    "    if os.path.exists(src_label_path):\n",
    "        shutil.copy(src_label_path, dst_label_path)\n",
    "    else:\n",
    "        print(f\"Warning: No label found for {file}\")\n",
    "\n",
    "for file in val_files:\n",
    "    # Move images\n",
    "    src_image_path = os.path.join(image_dir, file)\n",
    "    dst_image_path = os.path.join(val_image_dir, file)\n",
    "    shutil.copy(src_image_path, dst_image_path)\n",
    "\n",
    "    # Move corresponding label if it exists\n",
    "    label_file = file.replace('.jpg', '.txt')\n",
    "    src_label_path = os.path.join(label_dir, label_file)\n",
    "    dst_label_path = os.path.join(val_label_dir, label_file)\n",
    "    \n",
    "    if os.path.exists(src_label_path):\n",
    "        shutil.copy(src_label_path, dst_label_path)\n",
    "    else:\n",
    "        print(f\"Warning: No label found for {file}\")\n",
    "\n",
    "print(\"Dataset split complete!\")"
   ]
  },
  {
   "cell_type": "code",
   "execution_count": 2,
   "id": "e22a7cf5-d701-42d7-9473-cd6a1d643ba3",
   "metadata": {},
   "outputs": [
    {
     "name": "stdout",
     "output_type": "stream",
     "text": [
      "YAML file 'number_plate.yaml' created successfully!\n"
     ]
    }
   ],
   "source": [
    "import yaml\n",
    "\n",
    "data = {\n",
    "    \"path\": \"C:\\\\Users\\\\Acer nitro 5\\\\number\\\\datasets\",  # Base path to the dataset with double backslashes\n",
    "    \"train\": \"train/images\",               # Path to training images\n",
    "    \"val\": \"val/images\",                   # Path to validation images\n",
    "    \"names\": [\"number plate\"]              # List of class names (only 1 class: 'number plate')\n",
    "}\n",
    "\n",
    "with open(\"number_plate.yaml\", \"w\") as f:  # Open a file named 'number_plate.yaml' in write mode\n",
    "    yaml.dump(data, f)\n",
    "\n",
    "print(\"YAML file 'number_plate.yaml' created successfully!\")\n"
   ]
  },
  {
   "cell_type": "code",
   "execution_count": 1,
   "id": "2926699f-1ad5-4757-b37b-7280e4ab267b",
   "metadata": {},
   "outputs": [
    {
     "name": "stdout",
     "output_type": "stream",
     "text": [
      "Dataset split complete!\n"
     ]
    }
   ],
   "source": [
    "import os\n",
    "import random\n",
    "import shutil\n",
    "\n",
    "# Define paths\n",
    "dataset_path = r\"C:\\Users\\Acer nitro 5\\number\\datasets\\new\\newdata\"  # Replace with your dataset path\n",
    "image_dir = os.path.join(dataset_path, \"images\")\n",
    "label_dir = os.path.join(dataset_path, \"labels\")\n",
    "\n",
    "train_image_dir = os.path.join(dataset_path, \"train\", \"images\")\n",
    "train_label_dir = os.path.join(dataset_path, \"train\", \"labels\")\n",
    "val_image_dir = os.path.join(dataset_path, \"val\", \"images\")\n",
    "val_label_dir = os.path.join(dataset_path, \"val\", \"labels\")\n",
    "\n",
    "# Create directories if they don't exist\n",
    "os.makedirs(train_image_dir, exist_ok=True)\n",
    "os.makedirs(val_image_dir, exist_ok=True)\n",
    "os.makedirs(train_label_dir, exist_ok=True)\n",
    "os.makedirs(val_label_dir, exist_ok=True)\n",
    "\n",
    "# Get list of all image files (supporting .jpg, .jpeg, .png)\n",
    "image_extensions = ('.jpg', '.jpeg', '.png')\n",
    "image_files = [f for f in os.listdir(image_dir) if f.lower().endswith(image_extensions)]\n",
    "\n",
    "# Shuffle the images\n",
    "random.shuffle(image_files)\n",
    "\n",
    "# Split dataset (80% train, 20% val)\n",
    "split_index = int(0.8 * len(image_files))\n",
    "train_files = image_files[:split_index]\n",
    "val_files = image_files[split_index:]\n",
    "\n",
    "# Function to copy images and their corresponding labels\n",
    "def copy_files(file_list, src_image_dir, dst_image_dir, src_label_dir, dst_label_dir):\n",
    "    for file in file_list:\n",
    "        # Copy image\n",
    "        src_image_path = os.path.join(src_image_dir, file)\n",
    "        dst_image_path = os.path.join(dst_image_dir, file)\n",
    "        shutil.copy(src_image_path, dst_image_path)\n",
    "\n",
    "        # Copy corresponding label if it exists\n",
    "        label_file = os.path.splitext(file)[0] + \".txt\"\n",
    "        src_label_path = os.path.join(src_label_dir, label_file)\n",
    "        dst_label_path = os.path.join(dst_label_dir, label_file)\n",
    "\n",
    "        if os.path.exists(src_label_path):\n",
    "            shutil.copy(src_label_path, dst_label_path)\n",
    "        else:\n",
    "            print(f\"Warning: No label found for {file}\")\n",
    "\n",
    "# Copy training files\n",
    "copy_files(train_files, image_dir, train_image_dir, label_dir, train_label_dir)\n",
    "\n",
    "# Copy validation files\n",
    "copy_files(val_files, image_dir, val_image_dir, label_dir, val_label_dir)\n",
    "\n",
    "print(\"Dataset split complete!\")\n"
   ]
  },
  {
   "cell_type": "code",
   "execution_count": 2,
   "id": "a44f5ba7-724f-4e09-ae0a-f2bde9459338",
   "metadata": {},
   "outputs": [
    {
     "name": "stdout",
     "output_type": "stream",
     "text": [
      "YAML file 'number.yaml' created successfully!\n"
     ]
    }
   ],
   "source": [
    "import yaml\n",
    "\n",
    "data = {\n",
    "    \"path\": \"C:/Users/Acer nitro 5/number/datasets/new/newdata\",  # Use forward slashes\n",
    "    \"train\": \"train/images\",               # Path to training images\n",
    "    \"val\": \"val/images\",                   # Path to validation images\n",
    "    \"names\": [\"number plate\"]              # List of class names (only 1 class: 'number plate')\n",
    "}\n",
    "\n",
    "with open(\"number.yaml\", \"w\") as f:  # Open a file named 'number.yaml' in write mode\n",
    "    yaml.dump(data, f, default_flow_style=False)  # Ensure proper formatting\n",
    "\n",
    "print(\"YAML file 'number.yaml' created successfully!\")\n"
   ]
  },
  {
   "cell_type": "code",
   "execution_count": null,
   "id": "fe313cfb-b85e-459c-b42c-4487b879d8bb",
   "metadata": {},
   "outputs": [],
   "source": []
  }
 ],
 "metadata": {
  "kernelspec": {
   "display_name": "Python 3 (ipykernel)",
   "language": "python",
   "name": "python3"
  },
  "language_info": {
   "codemirror_mode": {
    "name": "ipython",
    "version": 3
   },
   "file_extension": ".py",
   "mimetype": "text/x-python",
   "name": "python",
   "nbconvert_exporter": "python",
   "pygments_lexer": "ipython3",
   "version": "3.10.15"
  }
 },
 "nbformat": 4,
 "nbformat_minor": 5
}
